{
 "cells": [
  {
   "cell_type": "code",
   "execution_count": null,
   "metadata": {},
   "outputs": [],
   "source": [
    "from oasislmf.platform.client import APIClient\n",
    "client = APIClient(\n",
    "    api_url=\"http://localhost:8000\",\n",
    "    api_ver=\"V1\",\n",
    "    username=\"admin\", password=\"password\")"
   ]
  },
  {
   "cell_type": "code",
   "execution_count": null,
   "metadata": {},
   "outputs": [],
   "source": [
    "# Create a portfolio and associate the exposure files\n",
    "response = client.upload_inputs(\n",
    "    portfolio_name=\"Demo\",\n",
    "    location_fp=\"./data/SourceLocOEDPiWind10.csv\",\n",
    "    accounts_fp=\"./data/SourceAccOEDPiWind.csv\",\n",
    "    ri_info_fp=\"./data/SourceReinsInfoOEDPiWind.csv\",\n",
    "    ri_scope_fp=\"./data/SourceReinsScopeOEDPiWind.csv\")\n",
    "\n",
    "portfolio_id = response[\"id\"]"
   ]
  },
  {
   "cell_type": "code",
   "execution_count": null,
   "metadata": {},
   "outputs": [],
   "source": [
    "# List the aavailable models\n",
    "client.models.search({\"supplier_id__contains\": \"\"}).json()"
   ]
  },
  {
   "cell_type": "code",
   "execution_count": null,
   "metadata": {},
   "outputs": [],
   "source": [
    "# List the available portfolios\n",
    "client.portfolios.search({\"name__contains\": \"\"}).json()"
   ]
  },
  {
   "cell_type": "code",
   "execution_count": null,
   "metadata": {},
   "outputs": [],
   "source": [
    "# Create a new analysis\n",
    "analysis_id = client.create_analysis(\n",
    "    portfolio_id, \n",
    "    model_id=1, \n",
    "    analysis_name=\"Demo\")[\"id\"]"
   ]
  },
  {
   "cell_type": "code",
   "execution_count": null,
   "metadata": {},
   "outputs": [],
   "source": [
    "# List the analyses named \"Demo\"\n",
    "client.analyses.search({\"name__contains\": \"Demo\"}).json()"
   ]
  },
  {
   "cell_type": "code",
   "execution_count": null,
   "metadata": {},
   "outputs": [],
   "source": [
    "# Run the analysis inputs generation\n",
    "client.run_generate(analysis_id)"
   ]
  },
  {
   "cell_type": "code",
   "execution_count": null,
   "metadata": {},
   "outputs": [],
   "source": [
    "# Run the analysis\n",
    "client.run_analysis(analysis_id, analysis_settings_fp=\"./analysis_settings.json\")"
   ]
  },
  {
   "cell_type": "code",
   "execution_count": null,
   "metadata": {},
   "outputs": [],
   "source": [
    "# Download the outputs\n",
    "client.download_output(\n",
    "    analysis_id, \n",
    "    download_path=\"/tmp/demo\",\n",
    "    overwrite=True)"
   ]
  }
 ],
 "metadata": {
  "kernelspec": {
   "display_name": "OasisEvaluation",
   "language": "python",
   "name": "oasisevaluation"
  },
  "language_info": {
   "codemirror_mode": {
    "name": "ipython",
    "version": 3
   },
   "file_extension": ".py",
   "mimetype": "text/x-python",
   "name": "python",
   "nbconvert_exporter": "python",
   "pygments_lexer": "ipython3",
   "version": "3.5.2"
  }
 },
 "nbformat": 4,
 "nbformat_minor": 2
}
